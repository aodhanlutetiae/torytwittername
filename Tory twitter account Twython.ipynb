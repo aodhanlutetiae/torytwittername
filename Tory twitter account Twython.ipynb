{
 "cells": [
  {
   "cell_type": "code",
   "execution_count": 3,
   "metadata": {},
   "outputs": [],
   "source": [
    "from twython import Twython\n",
    "from twython import TwythonError\n",
    "\n",
    "import pandas as pd"
   ]
  },
  {
   "cell_type": "code",
   "execution_count": null,
   "metadata": {},
   "outputs": [],
   "source": [
    "# we look at the user account - who is @cchqpress?\n",
    "\n",
    "twtool.show_user(screen_name = 'CCHQPress')"
   ]
  },
  {
   "cell_type": "code",
   "execution_count": null,
   "metadata": {},
   "outputs": [],
   "source": [
    "# now, their timeline\n",
    "\n",
    "tweets = twtool.get_user_timeline(screen_name = 'CCHQPress', tweet_mode = \"extended\", count = 5000)\n"
   ]
  },
  {
   "cell_type": "code",
   "execution_count": null,
   "metadata": {},
   "outputs": [],
   "source": [
    "# we look at a tweet\n",
    "\n",
    "tweets[117]"
   ]
  },
  {
   "cell_type": "markdown",
   "metadata": {},
   "source": [
    "## Collecting the tweets"
   ]
  },
  {
   "cell_type": "code",
   "execution_count": null,
   "metadata": {},
   "outputs": [],
   "source": [
    "# this will get us to a 3k twitter limit\n",
    "\n",
    "all_tweets = []\n",
    "\n",
    "# we collect on the first page of results - here 'user_timeline' is a simple request\n",
    "\n",
    "try:\n",
    "    user_timeline = twtool.get_user_timeline(screen_name = 'CCHQPress', tweet_mode = \"extended\", count = 200)\n",
    "\n",
    "except TwythonError as e:\n",
    "    print (e)\n",
    "\n",
    "# just so we can see it running\n",
    "print (len(user_timeline))\n",
    "\n",
    "for tweet in user_timeline:\n",
    "    tweets = []\n",
    "    tweets.append(tweet['id'])\n",
    "    clean_time = tweet['created_at']\n",
    "    tm = clean_time[:-11]\n",
    "    tweets.append(tm)\n",
    "    tweets.append(tweet['full_text'])\n",
    "    all_tweets.append(tweets)\n",
    "\n",
    "    \n",
    "# this runs while the more specific 'user_timeline' brings back a batch of results that is not 0    \n",
    "while len(user_timeline) != 0: \n",
    "    \n",
    "    \n",
    "    # the max_id parameter is what allows us to continue\n",
    "    try:\n",
    "        user_timeline = twtool.get_user_timeline(screen_name='CCHQPress', tweet_mode = \"extended\", count = 200, max_id = user_timeline [len(user_timeline)-1]['id']-1)\n",
    "    \n",
    "    except TwythonError as e:\n",
    "        print (e)\n",
    "        \n",
    "    print (len(user_timeline))\n",
    "    \n",
    "    # loop through the tweets, appending ID, TIME (cleaned from unix time) and FULL TEXT\n",
    "    for tweet in user_timeline:\n",
    "        tweets = []\n",
    "        tweets.append(tweet['id'])\n",
    "        clean_time = tweet['created_at']\n",
    "        tm = clean_time[:-11]\n",
    "        tweets.append(tm)\n",
    "        tweets.append(tweet['full_text'])\n",
    "        \n",
    "        # append this list we've just made with id, time and content...to the main list 'all tweets'\n",
    "        all_tweets.append(tweets)\n"
   ]
  },
  {
   "cell_type": "code",
   "execution_count": null,
   "metadata": {},
   "outputs": [],
   "source": [
    "# how many were collected at 23h on Nov 24?\n",
    "\n",
    "len(all_tweets)"
   ]
  },
  {
   "cell_type": "markdown",
   "metadata": {},
   "source": [
    "## Make and clean a df"
   ]
  },
  {
   "cell_type": "code",
   "execution_count": null,
   "metadata": {},
   "outputs": [],
   "source": [
    "# declare column names in a list, then build the df\n",
    "\n",
    "col_names = [\"tweet_id\", \"time\", \"content\"]\n",
    "\n",
    "df_recent = pd.DataFrame(all_tweets, columns = col_names)"
   ]
  },
  {
   "cell_type": "code",
   "execution_count": null,
   "metadata": {},
   "outputs": [],
   "source": [
    "# flip the df so it moves in chronological direction\n",
    "\n",
    "df = df_recent.reindex(index = df_recent.index[::-1])"
   ]
  },
  {
   "cell_type": "code",
   "execution_count": null,
   "metadata": {},
   "outputs": [],
   "source": [
    "# reset the index to run from 0\n",
    "\n",
    "df = df.reset_index()"
   ]
  },
  {
   "cell_type": "code",
   "execution_count": null,
   "metadata": {},
   "outputs": [],
   "source": [
    "# drop an extra index column that's been created\n",
    "\n",
    "df = df.drop(df.columns[0], axis=1)"
   ]
  },
  {
   "cell_type": "code",
   "execution_count": null,
   "metadata": {},
   "outputs": [],
   "source": [
    "# identify the tweets we want from the timings \n",
    "\n",
    "df[2603:2817]"
   ]
  },
  {
   "cell_type": "code",
   "execution_count": null,
   "metadata": {},
   "outputs": [],
   "source": [
    "# nake a new df from the selection\n",
    "\n",
    "debate = df[2603:2817]"
   ]
  },
  {
   "cell_type": "code",
   "execution_count": null,
   "metadata": {},
   "outputs": [],
   "source": [
    "# how many tweets?\n",
    "\n",
    "len(debate)"
   ]
  },
  {
   "cell_type": "code",
   "execution_count": null,
   "metadata": {},
   "outputs": [],
   "source": [
    "# how many of these tweets are retweets?\n",
    "\n",
    "len(debate[debate['content'].str.contains('RT @')])"
   ]
  },
  {
   "cell_type": "markdown",
   "metadata": {},
   "source": [
    "## Filtering out the retweets"
   ]
  },
  {
   "cell_type": "code",
   "execution_count": null,
   "metadata": {},
   "outputs": [],
   "source": [
    "# we build a simple filter for text in a column:\n",
    "# df[df['column'].str.contains('some text')] \n",
    "# and flip it using ~ to get only those rows that DON'T contain it\n",
    "\n",
    "originals = debate[~debate['content'].str.contains('RT @')]"
   ]
  },
  {
   "cell_type": "code",
   "execution_count": null,
   "metadata": {},
   "outputs": [],
   "source": [
    "# force the df to display across the page - it works but generates \\n\n",
    "\n",
    "pd.set_option('display.max_colwidth', -1)\n",
    "\n",
    "originals"
   ]
  },
  {
   "cell_type": "code",
   "execution_count": null,
   "metadata": {},
   "outputs": [],
   "source": [
    "# lambda functions that replace the line breaks with spaces\n",
    "\n",
    "rep_doubles = lambda x: x.replace('\\n\\n', ' ')\n",
    "rep_singles = lambda x:x.replace('\\n', ' ')\n",
    "rep_and = lambda x:x.replace('&amp;', '&')"
   ]
  },
  {
   "cell_type": "code",
   "execution_count": null,
   "metadata": {},
   "outputs": [],
   "source": [
    "# Use .apply to map the functions across the entire column\n",
    "\n",
    "originals[\"content\"] = originals[\"content\"].apply(rep_doubles)"
   ]
  },
  {
   "cell_type": "code",
   "execution_count": null,
   "metadata": {},
   "outputs": [],
   "source": [
    "originals[\"content\"] = originals[\"content\"].apply(rep_singles)"
   ]
  },
  {
   "cell_type": "code",
   "execution_count": null,
   "metadata": {},
   "outputs": [],
   "source": [
    "originals[\"content\"] = originals[\"content\"].apply(rep_and)"
   ]
  },
  {
   "cell_type": "code",
   "execution_count": null,
   "metadata": {},
   "outputs": [],
   "source": [
    "originals"
   ]
  },
  {
   "cell_type": "markdown",
   "metadata": {},
   "source": [
    "## Reading the tweets"
   ]
  },
  {
   "cell_type": "code",
   "execution_count": null,
   "metadata": {},
   "outputs": [],
   "source": [
    "# with Row here and CTRL + ENTER we can click through the quotes\n",
    "\n",
    "row = 0"
   ]
  },
  {
   "cell_type": "code",
   "execution_count": null,
   "metadata": {},
   "outputs": [],
   "source": [
    "#print (originals.iat[row,0])\n",
    "#print (originals.iat[row,1])\n",
    "print (originals.iat[row,2])\n",
    "\n",
    "row = row + 1"
   ]
  },
  {
   "cell_type": "code",
   "execution_count": null,
   "metadata": {},
   "outputs": [],
   "source": []
  }
 ],
 "metadata": {
  "kernelspec": {
   "display_name": "Python 3",
   "language": "python",
   "name": "python3"
  },
  "language_info": {
   "codemirror_mode": {
    "name": "ipython",
    "version": 3
   },
   "file_extension": ".py",
   "mimetype": "text/x-python",
   "name": "python",
   "nbconvert_exporter": "python",
   "pygments_lexer": "ipython3",
   "version": "3.7.3"
  }
 },
 "nbformat": 4,
 "nbformat_minor": 2
}
